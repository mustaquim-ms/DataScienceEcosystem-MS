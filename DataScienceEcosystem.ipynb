{
 "cells": [
  {
   "cell_type": "markdown",
   "id": "2f10558e",
   "metadata": {},
   "source": [
    "# Data Science Ecosystem"
   ]
  },
  {
   "cell_type": "markdown",
   "id": "73adb7ed",
   "metadata": {},
   "source": [
    "In this notebook, Data Science Tools and Ecosystem are summarized."
   ]
  },
  {
   "cell_type": "markdown",
   "id": "223987b8",
   "metadata": {},
   "source": [
    "**Objectives:**\n",
    "\n",
    "- Understand popular languages used in Data Science\n",
    "- Familiarize with tools used in Data Science\n",
    "- Introduction to Python, R & R Studio.\n",
    "- Learn about Git and GitLab"
   ]
  },
  {
   "cell_type": "markdown",
   "id": "3332eb3c",
   "metadata": {},
   "source": [
    "## Some of the popular languages that Data Scientists use are:"
   ]
  },
  {
   "cell_type": "markdown",
   "id": "412f4847",
   "metadata": {},
   "source": [
    "1. Python\n",
    "2. R\n",
    "3. SQL\n",
    "4. Julia\n",
    "5. Scala\n",
    "6. C/C++\n",
    "7. JavaScript\n",
    "8. MATLAB"
   ]
  },
  {
   "cell_type": "markdown",
   "id": "dea26ccf",
   "metadata": {},
   "source": [
    "## Some of the commonly used libraries used by Data Scientists include:"
   ]
  },
  {
   "cell_type": "markdown",
   "id": "99a8521f",
   "metadata": {},
   "source": [
    "1. Tensorflow\n",
    "2. SciPy\n",
    "3. Scikit-learn\n",
    "4. ggplot2\n",
    "5. Keras\n",
    "6. PyTorch\n"
   ]
  },
  {
   "cell_type": "markdown",
   "id": "90d96e09",
   "metadata": {},
   "source": [
    "# Data Science Tools"
   ]
  },
  {
   "cell_type": "markdown",
   "id": "2311de43",
   "metadata": {},
   "source": [
    "|Data Science Tools|\n",
    "| ---- |\n",
    "| Jupyter Notebook |\n",
    "| Apache HADOOP |\n",
    "| SAS |"
   ]
  },
  {
   "cell_type": "markdown",
   "id": "c936724a",
   "metadata": {},
   "source": [
    "### Below are a few examples of evaluating arithmetic expressions in Python."
   ]
  },
  {
   "cell_type": "markdown",
   "id": "f9768726",
   "metadata": {},
   "source": [
    "| Expression | Meaning | Result |\n",
    "|------------|---------|--------|\n",
    "| 5 + 2      | Addition of 5 and 2 | 7 |\n",
    "| 9 - 3      | Subtraction of 3 from 9 | 6 |\n",
    "| 4 * 6      | Multiplication of 4 and 6 | 24 |\n",
    "| 10 / 2     | Division of 10 by 2 | 5.0 |\n",
    "| 7 // 3     | Integer division of 7 by 3 | 2 |\n",
    "| 2 ** 4     | Exponentiation of 2 raised to the power of 4 | 16 |\n",
    "| 21 % 5     | Modulus of 21 divided by 5 | 1 |"
   ]
  },
  {
   "cell_type": "markdown",
   "id": "a871ecb5",
   "metadata": {},
   "source": [
    "Below is a simple arithmetic expression to mutiply then add integers:"
   ]
  },
  {
   "cell_type": "code",
   "execution_count": 8,
   "id": "151fbd39",
   "metadata": {},
   "outputs": [
    {
     "name": "stdout",
     "output_type": "stream",
     "text": [
      "17\n"
     ]
    }
   ],
   "source": [
    "a = 3\n",
    "b = 4\n",
    "c = 5\n",
    "\n",
    "result = (a * b) + c\n",
    "\n",
    "print(result)"
   ]
  },
  {
   "cell_type": "markdown",
   "id": "021ae50f",
   "metadata": {},
   "source": [
    "Below will convert 200 minutes to hours by diving by 60."
   ]
  },
  {
   "cell_type": "code",
   "execution_count": 9,
   "id": "b3480271",
   "metadata": {},
   "outputs": [
    {
     "data": {
      "text/plain": [
       "3.3333333333333335"
      ]
     },
     "execution_count": 9,
     "metadata": {},
     "output_type": "execute_result"
    }
   ],
   "source": [
    "200 / 60"
   ]
  },
  {
   "cell_type": "markdown",
   "id": "92f4d76b",
   "metadata": {},
   "source": [
    "## Author\n",
    "Mustaquim Ahmad"
   ]
  },
  {
   "cell_type": "raw",
   "id": "823e2b7b",
   "metadata": {},
   "source": []
  },
  {
   "cell_type": "code",
   "execution_count": null,
   "id": "f30066ab",
   "metadata": {},
   "outputs": [],
   "source": []
  }
 ],
 "metadata": {
  "kernelspec": {
   "display_name": "Python 3 (ipykernel)",
   "language": "python",
   "name": "python3"
  },
  "language_info": {
   "codemirror_mode": {
    "name": "ipython",
    "version": 3
   },
   "file_extension": ".py",
   "mimetype": "text/x-python",
   "name": "python",
   "nbconvert_exporter": "python",
   "pygments_lexer": "ipython3",
   "version": "3.11.2"
  }
 },
 "nbformat": 4,
 "nbformat_minor": 5
}
